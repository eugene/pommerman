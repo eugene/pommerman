{
 "cells": [
  {
   "cell_type": "code",
   "execution_count": 1,
   "metadata": {},
   "outputs": [],
   "source": [
    "import pommerman\n",
    "from pommerman import agents\n",
    "import numpy as np\n",
    "from copy import deepcopy\n",
    "from matplotlib import pyplot as plt\n",
    "from tqdm import tqdm_notebook as tqdm\n",
    "from matplotlib import pyplot as plt\n",
    "from collections import Counter"
   ]
  },
  {
   "cell_type": "code",
   "execution_count": 2,
   "metadata": {},
   "outputs": [],
   "source": [
    "def featurize(obs):\n",
    "    # TODO: history of n moves?\n",
    "    board = obs['board']\n",
    "\n",
    "    # convert board items into bitmaps\n",
    "    maps = [board == i for i in range(10)]\n",
    "    maps.append(obs['bomb_blast_strength'])\n",
    "    maps.append(obs['bomb_life'])\n",
    "\n",
    "    # duplicate ammo, blast_strength and can_kick over entire map\n",
    "    maps.append(np.full(board.shape, obs['ammo']))\n",
    "    maps.append(np.full(board.shape, obs['blast_strength']))\n",
    "    maps.append(np.full(board.shape, obs['can_kick']))\n",
    "\n",
    "    # add my position as bitmap\n",
    "    position = np.zeros(board.shape)\n",
    "    position[obs['position']] = 1\n",
    "    maps.append(position)\n",
    "\n",
    "    # add teammate\n",
    "    if obs['teammate'] is not None:\n",
    "        maps.append(board == obs['teammate'].value)\n",
    "    else:\n",
    "        maps.append(np.zeros(board.shape))\n",
    "\n",
    "    # add enemies\n",
    "    enemies = [board == e.value for e in obs['enemies']]\n",
    "    maps.append(np.any(enemies, axis=0))\n",
    "\n",
    "    return np.stack(maps, axis=2)"
   ]
  },
  {
   "cell_type": "markdown",
   "metadata": {},
   "source": [
    "## FFA 1 simple 3 random"
   ]
  },
  {
   "cell_type": "code",
   "execution_count": 3,
   "metadata": {},
   "outputs": [
    {
     "name": "stderr",
     "output_type": "stream",
     "text": [
      "D:\\Users\\Baby-\\Anaconda3\\lib\\site-packages\\gym\\envs\\registration.py:14: PkgResourcesDeprecationWarning: Parameters to load are deprecated.  Call .resolve and .require separately.\n",
      "  result = entry_point.load(False)\n"
     ]
    }
   ],
   "source": [
    "# Create a set of agents (exactly four)\n",
    "    agent_list = [\n",
    "        agents.SimpleAgent(),\n",
    "        agents.RandomAgent(),\n",
    "        agents.RandomAgent(),\n",
    "        agents.RandomAgent(),\n",
    "    ]\n",
    "\n",
    "\n",
    "    # Make the \"Free-For-All\" environment using the agent list\n",
    "    env = pommerman.make('PommeFFACompetition-v0', agent_list)"
   ]
  },
  {
   "cell_type": "code",
   "execution_count": 4,
   "metadata": {},
   "outputs": [
    {
     "data": {
      "application/vnd.jupyter.widget-view+json": {
       "model_id": "e85ba5362a604f36b20c413c7f2573c5",
       "version_major": 2,
       "version_minor": 0
      },
      "text/plain": [
       "HBox(children=(IntProgress(value=0, max=10000), HTML(value='')))"
      ]
     },
     "metadata": {},
     "output_type": "display_data"
    },
    {
     "name": "stdout",
     "output_type": "stream",
     "text": [
      "\n"
     ]
    }
   ],
   "source": [
    "if __name__ == '__main__':\n",
    "\n",
    "    observations = [[], [], [], []]\n",
    "    actions = [[], [], [], []]\n",
    "    rewards = [[], [], [], []]\n",
    "    time_step = []\n",
    "\n",
    "    # Run the episodes just like OpenAI Gym\n",
    "    for i in tqdm(range(10000)):\n",
    "        obs = env.reset()\n",
    "        done = False\n",
    "        reward = [0, 0, 0, 0]\n",
    "        t = 0\n",
    "        while not done:\n",
    "            action = env.act(obs)\n",
    "            new_obs, new_reward, done, info = env.step(action)\n",
    "            for j in range(4):\n",
    "                if reward[j] == 0:\n",
    "                    #observations[j].append(featurize(obs[j]))\n",
    "                    actions[j].append(action[j])\n",
    "                    rewards[j].append(new_reward[j])\n",
    "            obs = deepcopy(new_obs)\n",
    "            reward = deepcopy(new_reward)\n",
    "            t += 1\n",
    "            # if (i % 100 == 0):\n",
    "                # print(obs[0][\"alive\"])\n",
    "            if (10 not in obs[0][\"alive\"]):\n",
    "                done = True\n",
    "            #if done:\n",
    "                #print(\"Game Done\")\n",
    "        time_step.append(t)\n",
    "        if (1 in reward):\n",
    "            winner = reward.index(1)\n",
    "        else:\n",
    "            winner = None\n",
    "        # if (i % 100 == 0):\n",
    "            # print(\"Episode:\", i + 1, \", Max length:\", t, \", Winner: Agent\", winner,\", Rewards:\", reward)\n",
    "    env.close()\n"
   ]
  },
  {
   "cell_type": "code",
   "execution_count": 6,
   "metadata": {},
   "outputs": [
    {
     "name": "stdout",
     "output_type": "stream",
     "text": [
      "The minimum episode length is: 10\n",
      "The median episode length is: 31.0\n",
      "The mean episode length is: 34.5796\n",
      "The max episode length is: 183\n",
      "The most common episode is: 23\n",
      "Number of episodes smaller than 35 is 5970\n"
     ]
    }
   ],
   "source": [
    "episode_length = time_step \n",
    "cnt = Counter(episode_length)\n",
    "print(\"The minimum episode length is: {}\".format(np.min(episode_length)))\n",
    "print(\"The median episode length is: {}\".format(np.median(episode_length)))\n",
    "print(\"The mean episode length is: {}\".format(np.mean(episode_length)))\n",
    "print(\"The max episode length is: {}\".format(np.max(episode_length)))\n",
    "print(\"The most common episode is: {}\".format(cnt.most_common(1)[0][0]))\n",
    "print(\"Number of episodes smaller than {} is {}\".format(35, np.sum(np.array(episode_length) < 35)))"
   ]
  },
  {
   "cell_type": "code",
   "execution_count": 8,
   "metadata": {},
   "outputs": [
    {
     "name": "stdout",
     "output_type": "stream",
     "text": [
      "The minimum episode count is: 95\n",
      "The median episode count is: 259\n",
      "The max episode count is: 1\n",
      "The most common episode count is: 313\n",
      "Number of episodes smaller than mean 34.5796 is 5970\n"
     ]
    }
   ],
   "source": [
    "print(\"The minimum episode count is: {}\".format(episode_length.count(np.min(episode_length))))\n",
    "print(\"The median episode count is: {}\".format(episode_length.count(np.median(episode_length))))\n",
    "print(\"The max episode count is: {}\".format(episode_length.count(np.max(episode_length))))\n",
    "print(\"The most common episode count is: {}\".format(cnt.most_common(1)[0][1]))\n",
    "print(\"Number of episodes smaller than mean {} is {}\".format(np.mean(episode_length), np.sum(np.array(episode_length) < np.mean(episode_length))))"
   ]
  },
  {
   "cell_type": "code",
   "execution_count": 9,
   "metadata": {},
   "outputs": [
    {
     "name": "stdout",
     "output_type": "stream",
     "text": [
      "Reward value for agent 0 is 0.9518\n"
     ]
    }
   ],
   "source": [
    "print(\"Reward value for agent 0 is {}\".format(np.sum(rewards[0])/10000))"
   ]
  },
  {
   "cell_type": "code",
   "execution_count": 10,
   "metadata": {},
   "outputs": [],
   "source": [
    "actions_count = np.zeros(6)\n",
    "for action in actions[0]:\n",
    "    actions_count[action] += 1"
   ]
  },
  {
   "cell_type": "code",
   "execution_count": 11,
   "metadata": {},
   "outputs": [
    {
     "data": {
      "text/plain": [
       "array([129680.,  40515.,  49923.,  42435.,  49994.,  33249.])"
      ]
     },
     "execution_count": 11,
     "metadata": {},
     "output_type": "execute_result"
    }
   ],
   "source": [
    "actions_count"
   ]
  },
  {
   "cell_type": "code",
   "execution_count": 12,
   "metadata": {},
   "outputs": [
    {
     "data": {
      "image/png": "[encoded data removed]",
      "text/plain": [
       "<Figure size 864x576 with 1 Axes>"
      ]
     },
     "metadata": {
      "needs_background": "light"
     },
     "output_type": "display_data"
    }
   ],
   "source": [
    "fig = plt.figure(figsize=(12,8))\n",
    "plt.rcParams.update({'font.size': 25})\n",
    "\n",
    "#plt.figure(figsize=(17,10))\n",
    "plt.bar(range(0,6), actions_count)\n",
    "\n",
    "plt.xticks(np.arange(6), ('Stop','Up','Down','Left','Right','Bomb'))\n",
    "plt.title('actions count', fontsize=40)\n",
    "plt.savefig('rand10kactions.png', dpi=fig.dpi)\n",
    "\n",
    "plt.show()"
   ]
  },
  {
   "cell_type": "markdown",
   "metadata": {},
   "source": [
    "## FFA 4 Simple"
   ]
  },
  {
   "cell_type": "code",
   "execution_count": 13,
   "metadata": {},
   "outputs": [],
   "source": [
    "# Create a set of agents (exactly four)\n",
    "    agent_list = [\n",
    "        agents.SimpleAgent(),\n",
    "        agents.SimpleAgent(),\n",
    "        agents.SimpleAgent(),\n",
    "        agents.SimpleAgent(),\n",
    "    ]\n",
    "\n",
    "    # Make the \"Free-For-All\" environment using the agent list\n",
    "    env = pommerman.make('PommeFFACompetition-v0', agent_list)"
   ]
  },
  {
   "cell_type": "code",
   "execution_count": 14,
   "metadata": {},
   "outputs": [
    {
     "data": {
      "application/vnd.jupyter.widget-view+json": {
       "model_id": "0e15525829124f9283976e373674be58",
       "version_major": 2,
       "version_minor": 0
      },
      "text/plain": [
       "HBox(children=(IntProgress(value=0, max=10000), HTML(value='')))"
      ]
     },
     "metadata": {},
     "output_type": "display_data"
    },
    {
     "name": "stdout",
     "output_type": "stream",
     "text": [
      "\n"
     ]
    }
   ],
   "source": [
    "if __name__ == '__main__':\n",
    "\n",
    "    observations = [[], [], [], []]\n",
    "    actions = [[], [], [], []]\n",
    "    rewards = [[], [], [], []]\n",
    "    time_step = []\n",
    "\n",
    "    # Run the episodes just like OpenAI Gym\n",
    "    for i in tqdm(range(10000)):\n",
    "        obs = env.reset()\n",
    "        done = False\n",
    "        reward = [0, 0, 0, 0]\n",
    "        t = 0\n",
    "        while not done:\n",
    "            action = env.act(obs)\n",
    "            new_obs, new_reward, done, info = env.step(action)\n",
    "            for j in range(4):\n",
    "                if reward[j] == 0:\n",
    "                    #observations[j].append(featurize(obs[j]))\n",
    "                    actions[j].append(action[j])\n",
    "                    rewards[j].append(new_reward[j])\n",
    "            obs = deepcopy(new_obs)\n",
    "            reward = deepcopy(new_reward)\n",
    "            t += 1\n",
    "            # if (i % 100 == 0):\n",
    "                # print(obs[0][\"alive\"])\n",
    "            if (10 not in obs[0][\"alive\"]):\n",
    "                done = True\n",
    "            #if done:\n",
    "                #print(\"Game Done\")\n",
    "        time_step.append(t)\n",
    "        if (1 in reward):\n",
    "            winner = reward.index(1)\n",
    "        else:\n",
    "            winner = None\n",
    "        # if (i % 100 == 0):\n",
    "            # print(\"Episode:\", i + 1, \", Max length:\", t, \", Winner: Agent\", winner,\", Rewards:\", reward)\n",
    "    env.close()\n"
   ]
  },
  {
   "cell_type": "code",
   "execution_count": 15,
   "metadata": {},
   "outputs": [
    {
     "name": "stdout",
     "output_type": "stream",
     "text": [
      "The minimum episode length is: 10\n",
      "The median episode length is: 184.0\n",
      "The mean episode length is: 267.728\n",
      "The max episode length is: 801\n",
      "The most common episode is: 801\n",
      "Number of episodes smaller than 35 is 213\n"
     ]
    }
   ],
   "source": [
    "episode_length = time_step \n",
    "cnt = Counter(episode_length)\n",
    "print(\"The minimum episode length is: {}\".format(np.min(episode_length)))\n",
    "print(\"The median episode length is: {}\".format(np.median(episode_length)))\n",
    "print(\"The mean episode length is: {}\".format(np.mean(episode_length)))\n",
    "print(\"The max episode length is: {}\".format(np.max(episode_length)))\n",
    "print(\"The most common episode is: {}\".format(cnt.most_common(1)[0][0]))\n",
    "print(\"Number of episodes smaller than {} is {}\".format(35, np.sum(np.array(episode_length) < 35)))"
   ]
  },
  {
   "cell_type": "code",
   "execution_count": 16,
   "metadata": {},
   "outputs": [
    {
     "name": "stdout",
     "output_type": "stream",
     "text": [
      "The minimum episode count is: 85\n",
      "The median episode count is: 31\n",
      "The max episode count is: 638\n",
      "The most common episode count is: 638\n",
      "Number of episodes smaller than 267.728 is 6446\n"
     ]
    }
   ],
   "source": [
    "print(\"The minimum episode count is: {}\".format(episode_length.count(np.min(episode_length))))\n",
    "print(\"The median episode count is: {}\".format(episode_length.count(np.median(episode_length))))\n",
    "print(\"The max episode count is: {}\".format(episode_length.count(np.max(episode_length))))\n",
    "print(\"The most common episode count is: {}\".format(cnt.most_common(1)[0][1]))\n",
    "print(\"Number of episodes smaller than {} is {}\".format(np.mean(episode_length), np.sum(np.array(episode_length) < np.mean(episode_length))))"
   ]
  },
  {
   "cell_type": "code",
   "execution_count": 17,
   "metadata": {},
   "outputs": [
    {
     "name": "stdout",
     "output_type": "stream",
     "text": [
      "Reward value for agent 0 is -0.5486\n"
     ]
    }
   ],
   "source": [
    "print(\"Reward value for agent 0 is {}\".format(np.sum(rewards[0])/10000))"
   ]
  },
  {
   "cell_type": "code",
   "execution_count": 18,
   "metadata": {},
   "outputs": [],
   "source": [
    "actions_count = np.zeros(6)\n",
    "for action in actions[0]:\n",
    "    actions_count[action] += 1"
   ]
  },
  {
   "cell_type": "code",
   "execution_count": 19,
   "metadata": {},
   "outputs": [
    {
     "data": {
      "text/plain": [
       "array([364500., 518445., 572591., 521393., 587000., 113351.])"
      ]
     },
     "execution_count": 19,
     "metadata": {},
     "output_type": "execute_result"
    }
   ],
   "source": [
    "actions_count"
   ]
  },
  {
   "cell_type": "code",
   "execution_count": 20,
   "metadata": {},
   "outputs": [
    {
     "data": {
      "image/png": "[encoded data removed]",
      "text/plain": [
       "<Figure size 864x576 with 1 Axes>"
      ]
     },
     "metadata": {
      "needs_background": "light"
     },
     "output_type": "display_data"
    }
   ],
   "source": [
    "fig = plt.figure(figsize=(12,8))\n",
    "plt.rcParams.update({'font.size': 25})\n",
    "\n",
    "#plt.figure(figsize=(17,10))\n",
    "plt.bar(range(0,6), actions_count)\n",
    "\n",
    "plt.xticks(np.arange(6), ('Stop','Up','Down','Left','Right','Bomb'))\n",
    "plt.title('actions count', fontsize=40)\n",
    "plt.savefig('rand10kactions.png', dpi=fig.dpi)\n",
    "\n",
    "plt.show()"
   ]
  },
  {
   "cell_type": "markdown",
   "metadata": {},
   "source": [
    "## COOP"
   ]
  },
  {
   "cell_type": "code",
   "execution_count": 21,
   "metadata": {},
   "outputs": [],
   "source": [
    "# Create a set of agents (exactly four)\n",
    "    agent_list = [\n",
    "        agents.SimpleAgent(),\n",
    "        agents.SimpleAgent(),\n",
    "        agents.SimpleAgent(),\n",
    "        agents.SimpleAgent(),\n",
    "    ]\n",
    "\n",
    "    # Make the \"Free-For-All\" environment using the agent list\n",
    "    env = pommerman.make('PommeTeamCompetition-v0', agent_list)"
   ]
  },
  {
   "cell_type": "code",
   "execution_count": 22,
   "metadata": {},
   "outputs": [
    {
     "data": {
      "application/vnd.jupyter.widget-view+json": {
       "model_id": "6ceafd0e7d6444ef8ddea9df3cda8fc3",
       "version_major": 2,
       "version_minor": 0
      },
      "text/plain": [
       "HBox(children=(IntProgress(value=0, max=10000), HTML(value='')))"
      ]
     },
     "metadata": {},
     "output_type": "display_data"
    },
    {
     "name": "stdout",
     "output_type": "stream",
     "text": [
      "\n"
     ]
    }
   ],
   "source": [
    "if __name__ == '__main__':\n",
    "\n",
    "    observations = [[], [], [], []]\n",
    "    actions = [[], [], [], []]\n",
    "    rewards = [[], [], [], []]\n",
    "    time_step = []\n",
    "\n",
    "    # Run the episodes just like OpenAI Gym\n",
    "    for i in tqdm(range(10000)):\n",
    "        obs = env.reset()\n",
    "        done = False\n",
    "        reward = [0, 0, 0, 0]\n",
    "        t = 0\n",
    "        while not done:\n",
    "            action = env.act(obs)\n",
    "            new_obs, new_reward, done, info = env.step(action)\n",
    "            for j in range(4):\n",
    "                if reward[j] == 0:\n",
    "                    #observations[j].append(featurize(obs[j]))\n",
    "                    actions[j].append(action[j])\n",
    "                    rewards[j].append(new_reward[j])\n",
    "            obs = deepcopy(new_obs)\n",
    "            reward = deepcopy(new_reward)\n",
    "            t += 1\n",
    "            # if (i % 100 == 0):\n",
    "                # print(obs[0][\"alive\"])\n",
    "            if (10 not in obs[0][\"alive\"]):\n",
    "                done = True\n",
    "            #if done:\n",
    "                #print(\"Game Done\")\n",
    "        time_step.append(t)\n",
    "        if (1 in reward):\n",
    "            winner = reward.index(1)\n",
    "        else:\n",
    "            winner = None\n",
    "        # if (i % 100 == 0):\n",
    "            # print(\"Episode:\", i + 1, \", Max length:\", t, \", Winner: Agent\", winner,\", Rewards:\", reward)\n",
    "    env.close()\n"
   ]
  },
  {
   "cell_type": "code",
   "execution_count": 23,
   "metadata": {},
   "outputs": [
    {
     "name": "stdout",
     "output_type": "stream",
     "text": [
      "The minimum episode length is: 10\n",
      "The median episode length is: 151.0\n",
      "The mean episode length is: 224.3779\n",
      "The max episode length is: 801\n",
      "The most common episode is: 11\n",
      "Number of episodes smaller than 35 is 1288\n"
     ]
    }
   ],
   "source": [
    "episode_length = time_step \n",
    "cnt = Counter(episode_length)\n",
    "print(\"The minimum episode length is: {}\".format(np.min(episode_length)))\n",
    "print(\"The median episode length is: {}\".format(np.median(episode_length)))\n",
    "print(\"The mean episode length is: {}\".format(np.mean(episode_length)))\n",
    "print(\"The max episode length is: {}\".format(np.max(episode_length)))\n",
    "print(\"The most common episode is: {}\".format(cnt.most_common(1)[0][0]))\n",
    "print(\"Number of episodes smaller than {} is {}\".format(35, np.sum(np.array(episode_length) < 35)))"
   ]
  },
  {
   "cell_type": "code",
   "execution_count": 24,
   "metadata": {},
   "outputs": [
    {
     "name": "stdout",
     "output_type": "stream",
     "text": [
      "The minimum episode count is: 565\n",
      "The median episode count is: 22\n",
      "The max episode count is: 485\n",
      "The most common episode count is: 593\n",
      "Number of episodes smaller than 224.3779 is 6481\n"
     ]
    }
   ],
   "source": [
    "print(\"The minimum episode count is: {}\".format(episode_length.count(np.min(episode_length))))\n",
    "print(\"The median episode count is: {}\".format(episode_length.count(np.median(episode_length))))\n",
    "print(\"The max episode count is: {}\".format(episode_length.count(np.max(episode_length))))\n",
    "print(\"The most common episode count is: {}\".format(cnt.most_common(1)[0][1]))\n",
    "print(\"Number of episodes smaller than {} is {}\".format(np.mean(episode_length), np.sum(np.array(episode_length) < np.mean(episode_length))))"
   ]
  },
  {
   "cell_type": "code",
   "execution_count": 25,
   "metadata": {},
   "outputs": [
    {
     "name": "stdout",
     "output_type": "stream",
     "text": [
      "Reward value for agent 0 is 0.1348\n"
     ]
    }
   ],
   "source": [
    "print(\"Reward value for agent 0 is {}\".format(np.sum(rewards[0])/10000))"
   ]
  },
  {
   "cell_type": "code",
   "execution_count": 26,
   "metadata": {},
   "outputs": [],
   "source": [
    "actions_count = np.zeros(6)\n",
    "for action in actions[0]:\n",
    "    actions_count[action] += 1"
   ]
  },
  {
   "cell_type": "code",
   "execution_count": 27,
   "metadata": {},
   "outputs": [
    {
     "data": {
      "text/plain": [
       "array([313905., 427717., 491914., 426943., 488402.,  94898.])"
      ]
     },
     "execution_count": 27,
     "metadata": {},
     "output_type": "execute_result"
    }
   ],
   "source": [
    "actions_count"
   ]
  },
  {
   "cell_type": "code",
   "execution_count": 28,
   "metadata": {},
   "outputs": [
    {
     "data": {
      "image/png": "[encoded data removed]",
      "text/plain": [
       "<Figure size 864x576 with 1 Axes>"
      ]
     },
     "metadata": {
      "needs_background": "light"
     },
     "output_type": "display_data"
    }
   ],
   "source": [
    "fig = plt.figure(figsize=(12,8))\n",
    "plt.rcParams.update({'font.size': 25})\n",
    "\n",
    "#plt.figure(figsize=(17,10))\n",
    "plt.bar(range(0,6), actions_count)\n",
    "\n",
    "plt.xticks(np.arange(6), ('Stop','Up','Down','Left','Right','Bomb'))\n",
    "plt.title('actions count', fontsize=40)\n",
    "plt.savefig('rand10kactions.png', dpi=fig.dpi)\n",
    "\n",
    "plt.show()"
   ]
  },
  {
   "cell_type": "code",
   "execution_count": null,
   "metadata": {},
   "outputs": [],
   "source": []
  }
 ],
 "metadata": {
  "kernelspec": {
   "display_name": "Python 3",
   "language": "python",
   "name": "python3"
  },
  "language_info": {
   "codemirror_mode": {
    "name": "ipython",
    "version": 3
   },
   "file_extension": ".py",
   "mimetype": "text/x-python",
   "name": "python",
   "nbconvert_exporter": "python",
   "pygments_lexer": "ipython3",
   "version": "3.6.7"
  }
 },
 "nbformat": 4,
 "nbformat_minor": 2
}
